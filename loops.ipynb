{
 "cells": [
  {
   "cell_type": "markdown",
   "id": "1569c5c9-0a6b-4723-b83c-e7d654ca9802",
   "metadata": {},
   "source": [
    "1. Write a Python program to print the numbers from 1 to 10 using a for loop. \n"
   ]
  },
  {
   "cell_type": "code",
   "execution_count": 1,
   "id": "bb888391-1de8-49c3-94b6-9c7dad97c7da",
   "metadata": {},
   "outputs": [
    {
     "name": "stdout",
     "output_type": "stream",
     "text": [
      "0\n",
      "1\n",
      "2\n",
      "3\n",
      "4\n",
      "5\n",
      "6\n",
      "7\n",
      "8\n",
      "9\n",
      "10\n"
     ]
    }
   ],
   "source": [
    "for i in range(0,11):\n",
    "    print(i)\n",
    "    "
   ]
  },
  {
   "cell_type": "raw",
   "id": "b129f623-bbe9-4ac2-9dd4-622cfcbe8e76",
   "metadata": {},
   "source": [
    " 2.Write a Python program to print the numbers from 20 to 1 using a while\n"
   ]
  },
  {
   "cell_type": "code",
   "execution_count": 17,
   "id": "c498b341-8baa-4723-bd9f-0260b93576c9",
   "metadata": {},
   "outputs": [
    {
     "name": "stdout",
     "output_type": "stream",
     "text": [
      "20\n",
      "19\n",
      "18\n",
      "17\n",
      "16\n",
      "15\n",
      "14\n",
      "13\n",
      "12\n",
      "11\n",
      "10\n",
      "9\n",
      "8\n",
      "7\n",
      "6\n",
      "5\n",
      "4\n",
      "3\n",
      "2\n",
      "1\n"
     ]
    }
   ],
   "source": [
    "counter = 20\n",
    "while counter > 0:\n",
    "    print(counter)\n",
    "    counter = counter - 1\n"
   ]
  },
  {
   "cell_type": "raw",
   "id": "5eda745e-086a-4fa8-acbb-dfebbc5bc4ff",
   "metadata": {},
   "source": [
    "3. Write a program to print even numbers from 1 to 10.\n",
    "\n"
   ]
  },
  {
   "cell_type": "code",
   "execution_count": 18,
   "id": "fae2cc45-815e-4cf0-a419-c51409f5fff1",
   "metadata": {},
   "outputs": [
    {
     "name": "stdout",
     "output_type": "stream",
     "text": [
      "0\n",
      "2\n",
      "4\n",
      "6\n",
      "8\n",
      "10\n"
     ]
    }
   ],
   "source": [
    "for i in range(0,11):\n",
    "    if (i%2 == 0):\n",
    "        print(i)"
   ]
  },
  {
   "cell_type": "raw",
   "id": "ecdbf5b6-cd42-499d-9029-afdeebe6100c",
   "metadata": {},
   "source": [
    "4.Write a program that prompts the user to enter a number n and prints all the numbers from 1 to n."
   ]
  },
  {
   "cell_type": "code",
   "execution_count": 19,
   "id": "67c656ca-f566-4433-b784-173fdb77bf72",
   "metadata": {},
   "outputs": [
    {
     "name": "stdin",
     "output_type": "stream",
     "text": [
      "Enter a number : 7\n"
     ]
    },
    {
     "name": "stdout",
     "output_type": "stream",
     "text": [
      "1\n",
      "2\n",
      "3\n",
      "4\n",
      "5\n",
      "6\n",
      "7\n"
     ]
    }
   ],
   "source": [
    "n = int(input(\"Enter a number :\"))\n",
    "for i in range(1,n+1):\n",
    "    print(i)"
   ]
  },
  {
   "cell_type": "raw",
   "id": "3b84b308-6e5d-41d0-9358-86bff55e77e2",
   "metadata": {},
   "source": [
    "5.Write a program that prompts the user to enter a number n, and then prints all the odd numbers between 1 and n."
   ]
  },
  {
   "cell_type": "code",
   "execution_count": 22,
   "id": "30fb8b8f-cb85-470a-b9d8-93c4eba0a025",
   "metadata": {},
   "outputs": [
    {
     "name": "stdin",
     "output_type": "stream",
     "text": [
      "Enter a number : 10\n"
     ]
    },
    {
     "name": "stdout",
     "output_type": "stream",
     "text": [
      "1\n",
      "3\n",
      "5\n",
      "7\n",
      "9\n"
     ]
    }
   ],
   "source": [
    "n = int(input(\"Enter a number :\"))\n",
    "for i in range(1,n+1):\n",
    "    if(i%2 != 0):\n",
    "     print(i)"
   ]
  },
  {
   "cell_type": "raw",
   "id": "715aca2d-490a-427c-801b-9e42d6d017ff",
   "metadata": {},
   "source": [
    "6. Write a program that prints 'Happy Birthday!' five times on screen."
   ]
  },
  {
   "cell_type": "code",
   "execution_count": 29,
   "id": "19eb0d5a-481e-4693-8575-74cee48d9f7a",
   "metadata": {},
   "outputs": [
    {
     "name": "stdout",
     "output_type": "stream",
     "text": [
      "Happy Birthday!\n",
      "Happy Birthday!\n",
      "Happy Birthday!\n",
      "Happy Birthday!\n",
      "Happy Birthday!\n"
     ]
    }
   ],
   "source": [
    "for s in range(5):\n",
    "    print(\"Happy Birthday!\")"
   ]
  },
  {
   "cell_type": "raw",
   "id": "e197fd6b-74a0-4cdd-b5db-615506dd452b",
   "metadata": {},
   "source": [
    "7. Write a program that takes a number n as input from the user and generates the first n terms of the series formed by squaring the  natural numbers. Sample output Enter a number: 6 The first 6 terms of the series are: 149 16 25 36 \n"
   ]
  },
  {
   "cell_type": "code",
   "execution_count": 35,
   "id": "2790c3a3-a0c5-4699-aa30-9bb0eba64674",
   "metadata": {},
   "outputs": [
    {
     "name": "stdin",
     "output_type": "stream",
     "text": [
      "Enter a number : 6\n"
     ]
    },
    {
     "name": "stdout",
     "output_type": "stream",
     "text": [
      "1,4,9,16,25,36,"
     ]
    }
   ],
   "source": [
    "n = int(input(\"Enter a number :\"))\n",
    "for i in range(1,n+1):\n",
    "    print(i**2 ,end=\",\")"
   ]
  },
  {
   "cell_type": "raw",
   "id": "43930af5-e70c-4cdb-831c-6ec82e3d40b6",
   "metadata": {},
   "source": [
    "7. Write a program that prompts the user to input a number and prints its multiplication table. \n"
   ]
  },
  {
   "cell_type": "code",
   "execution_count": 39,
   "id": "20778acf-85ab-4d65-bb27-c5b1ae618d52",
   "metadata": {},
   "outputs": [
    {
     "name": "stdin",
     "output_type": "stream",
     "text": [
      "Enter a number you want table of: 5\n"
     ]
    },
    {
     "name": "stdout",
     "output_type": "stream",
     "text": [
      "5\n",
      "10\n",
      "15\n",
      "20\n",
      "25\n",
      "30\n",
      "35\n",
      "40\n",
      "45\n",
      "50\n"
     ]
    }
   ],
   "source": [
    "n = int(input(\"Enter a number you want table of:\"))\n",
    "for i in range(1,11):\n",
    "    print(i*n )"
   ]
  },
  {
   "cell_type": "raw",
   "id": "84f08dc0-5a41-4289-84e1-ffe683b43e85",
   "metadata": {},
   "source": [
    "8.Write a Python program to print the first 8 terms of an arithmetic progression starting with 3 and having a common difference of 4. The program should output the following sequence: 3 7 11 15 19 23 27 31 \n"
   ]
  },
  {
   "cell_type": "code",
   "execution_count": 52,
   "id": "dcb4043c-0a5c-4092-8103-18f56365c1fb",
   "metadata": {},
   "outputs": [
    {
     "name": "stdout",
     "output_type": "stream",
     "text": [
      "3 7 11 15 19 23 27 31 "
     ]
    }
   ],
   "source": [
    "firstterm = 3\n",
    "n = 8\n",
    "diff = 4\n",
    "\n",
    "for i in range(n):\n",
    "     term = firstterm + i*diff\n",
    "     print(term , end=\")"
   ]
  },
  {
   "cell_type": "raw",
   "id": "7eb6f0a2-b561-4d64-8d0e-6ff94340ea8f",
   "metadata": {},
   "source": [
    "9. Write a Python program to print the first 6 terms of a geometric sequence starting with 2 and having a common ratio of 3. The program should output the following sequence: 2 6 18 54 162 486 \n"
   ]
  },
  {
   "cell_type": "code",
   "execution_count": 58,
   "id": "034a6aaf-a201-4b35-8daa-dbc242359f77",
   "metadata": {},
   "outputs": [
    {
     "name": "stdout",
     "output_type": "stream",
     "text": [
      "2 6 18 54 162 486 "
     ]
    }
   ],
   "source": [
    "start= 2\n",
    "r= 3\n",
    "for i in range(6):\n",
    "    seq= (start)* (r)**i\n",
    "    print(seq , end=\" \")"
   ]
  },
  {
   "cell_type": "raw",
   "id": "ff1f8692-8e8f-4f9c-88db-36828f016ed0",
   "metadata": {},
   "source": [
    "10. Write a program that asks the user for a positive integer value. The program should calculate the sum of all the integers from 1 up to the number entered. For example, if the user enters 20, the loop will find the sum of 1, 2, 3, 4, 20"
   ]
  },
  {
   "cell_type": "code",
   "execution_count": 67,
   "id": "fa511275-d8f8-49da-80c9-9cda3defcec3",
   "metadata": {},
   "outputs": [
    {
     "name": "stdin",
     "output_type": "stream",
     "text": [
      "Enter number : 20\n"
     ]
    },
    {
     "name": "stdout",
     "output_type": "stream",
     "text": [
      "1\n",
      "3\n",
      "6\n",
      "10\n",
      "15\n",
      "21\n",
      "28\n",
      "36\n",
      "45\n",
      "55\n",
      "66\n",
      "78\n",
      "91\n",
      "105\n",
      "120\n",
      "136\n",
      "153\n",
      "171\n",
      "190\n",
      "210\n"
     ]
    }
   ],
   "source": [
    "n=int(input(\"Enter number :\"))\n",
    "total_sum = 0\n",
    "for i in range(1, n+1):\n",
    "    total_sum += i\n",
    "    print(total_sum)\n",
    "    "
   ]
  },
  {
   "cell_type": "raw",
   "id": "ef121681-ce61-475c-8720-445a9d0009b4",
   "metadata": {},
   "source": [
    "11. write a program that takes a positive integer N as input and calculates the sum of the reciprocals of all numbers from 1 up to N. The \n",
    "program should display the final sum. Output of the program should be like: Enter a positive integer: 5 The sum of reciprocals from 1 to 5 \n",
    "is: 2.28 \n"
   ]
  },
  {
   "cell_type": "code",
   "execution_count": 83,
   "id": "2ddcdb36-5dc3-4dfe-81b4-1d49b387b758",
   "metadata": {},
   "outputs": [
    {
     "name": "stdin",
     "output_type": "stream",
     "text": [
      "enter a number : 5\n"
     ]
    },
    {
     "name": "stdout",
     "output_type": "stream",
     "text": [
      "1.0\n",
      "1.5\n",
      "1.8333333333333333\n",
      "2.083333333333333\n",
      "2.283333333333333\n"
     ]
    }
   ],
   "source": [
    "n = int(input(\"enter a number :\"))\n",
    "#reciprocal \n",
    "fsum = 0.0\n",
    "for i in range( 1 , n+1):\n",
    "    fsum += 1/i\n",
    "    print(fsum)"
   ]
  },
  {
   "cell_type": "raw",
   "id": "2b72be7b-d5c3-441c-8c33-f6233a4cafef",
   "metadata": {},
   "source": [
    "12.Write a program that prompts the user to enter a number and repeats this process 5 times. The program should accumulate the numbers \n",
    "entered and then display the final running total. Sample Output: Enter a number: 10 Enter a number: 15 Enter a number: 35 Enter a number: \n",
    "40 Enter a number: 50 The final running total is: 150"
   ]
  },
  {
   "cell_type": "code",
   "execution_count": 88,
   "id": "5b7dc9c7-df67-46a7-a4dc-92b3eecc6834",
   "metadata": {},
   "outputs": [
    {
     "name": "stdin",
     "output_type": "stream",
     "text": [
      "Enter a number :  10\n",
      "Enter a number :  15\n",
      "Enter a number :  35\n",
      "Enter a number :  40\n",
      "Enter a number :  50\n"
     ]
    },
    {
     "name": "stdout",
     "output_type": "stream",
     "text": [
      "he final running total is150\n"
     ]
    }
   ],
   "source": [
    "total=0\n",
    "for i in range(5):\n",
    "    n=int(input(\"Enter a number : \"))\n",
    "    total += n\n",
    "\n",
    "print('he final running total is' +str(total))"
   ]
  },
  {
   "cell_type": "raw",
   "id": "f1bff7b9-4f0c-4392-8108-18e5745431ec",
   "metadata": {},
   "source": [
    "13. Write a program that prompts the user to enter a positive integer and calculates its factorial. The factorial of a positive integer 'n' is \n",
    "denoted as 'n!' and is calculated by multiplying all the integers from 1 to 'n' together. For example, the factorial of 5 (denoted as 5!) is calculated as 1 x 2 x 3 x 4 x 5. The program should display the factorial value if the input is a positive number, or display a message stating that the factorial does not exist for negative numbers. Additionally, for an input of zero, the program should output that the \n",
    "factorial of 0 is 1. "
   ]
  },
  {
   "cell_type": "code",
   "execution_count": 94,
   "id": "21876ffa-1be6-48ff-abb9-0f619fc9bf61",
   "metadata": {},
   "outputs": [
    {
     "name": "stdin",
     "output_type": "stream",
     "text": [
      "Enter a positive integer:  5\n"
     ]
    },
    {
     "name": "stdout",
     "output_type": "stream",
     "text": [
      "1\n",
      "2\n",
      "6\n",
      "24\n",
      "120\n",
      "The factorial of 5 is 120.\n"
     ]
    }
   ],
   "source": [
    "n = int(input(\"Enter a positive integer: \"))\n",
    "factorial = 1\n",
    "if n < 0:\n",
    "    print(\"Factorial does not exist for negative numbers.\")\n",
    "elif n == 0:\n",
    "    print(\"The factorial of 0 is 1.\")\n",
    "else:\n",
    "    for i in range(1, n + 1):\n",
    "        factorial *= i\n",
    "        print(factorial)\n",
    "    print(f\"The factorial of {n} is {factorial}.\")\n"
   ]
  },
  {
   "cell_type": "raw",
   "id": "97616187-8782-42a1-816c-bb197cb55154",
   "metadata": {},
   "source": [
    "14. Write a Python program that prompts the user to enter a base number and an exponent, and then calculates the power of the base to the exponent. The program should not use the exponentiation operator (**) or the math.pow() function. The program should handle both positive and negative exponents. \n"
   ]
  },
  {
   "cell_type": "code",
   "execution_count": 95,
   "id": "e974158e-87ec-4c4f-a585-de135987db5d",
   "metadata": {},
   "outputs": [
    {
     "name": "stdin",
     "output_type": "stream",
     "text": [
      "Enter the base number:  5\n",
      "Enter the exponent:  6\n"
     ]
    },
    {
     "name": "stdout",
     "output_type": "stream",
     "text": [
      "5.0^6 = 15625.000000\n"
     ]
    }
   ],
   "source": [
    "base = float(input(\"Enter the base number: \"))\n",
    "exponent = int(input(\"Enter the exponent: \"))\n",
    "result = 1\n",
    "\n",
    "if exponent >= 0:\n",
    "    for i in range(exponent):\n",
    "        result *= base\n",
    "else:\n",
    "    for i in range(-exponent):\n",
    "        result /= base\n",
    "print(f\"{base}^{exponent} = {result:.6f}\")\n"
   ]
  },
  {
   "cell_type": "code",
   "execution_count": null,
   "id": "3c8db42d-7bb6-4151-b624-a25385935247",
   "metadata": {},
   "outputs": [],
   "source": []
  }
 ],
 "metadata": {
  "kernelspec": {
   "display_name": "Python 3 (ipykernel)",
   "language": "python",
   "name": "python3"
  },
  "language_info": {
   "codemirror_mode": {
    "name": "ipython",
    "version": 3
   },
   "file_extension": ".py",
   "mimetype": "text/x-python",
   "name": "python",
   "nbconvert_exporter": "python",
   "pygments_lexer": "ipython3",
   "version": "3.12.2"
  }
 },
 "nbformat": 4,
 "nbformat_minor": 5
}
