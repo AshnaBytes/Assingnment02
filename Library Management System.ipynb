{
 "cells": [
  {
   "cell_type": "code",
   "execution_count": null,
   "id": "47df68ea-025f-4783-9a83-020353105e7e",
   "metadata": {},
   "outputs": [
    {
     "name": "stdin",
     "output_type": "stream",
     "text": [
      "Enter admin username:  admin\n",
      "Enter admin password:  ········\n"
     ]
    },
    {
     "name": "stdout",
     "output_type": "stream",
     "text": [
      "Login successful!\n",
      "\n",
      "Admin Menu:\n",
      "1. Add Book\n",
      "2. Issue Book\n",
      "3. Return Book\n",
      "4. Edit Book\n",
      "5. Delete Book\n",
      "6. Search Books\n",
      "7. Show Books\n",
      "8. Change Password\n",
      "9. Logout\n"
     ]
    },
    {
     "name": "stdin",
     "output_type": "stream",
     "text": [
      "Enter your choice:  1\n",
      "Enter book title:  python\n",
      "Enter book author:  ashna\n",
      "Enter publication year:  2901\n",
      "Enter ISBN:  9292\n"
     ]
    },
    {
     "name": "stdout",
     "output_type": "stream",
     "text": [
      "Book 'python' added successfully.\n",
      "\n",
      "Admin Menu:\n",
      "1. Add Book\n",
      "2. Issue Book\n",
      "3. Return Book\n",
      "4. Edit Book\n",
      "5. Delete Book\n",
      "6. Search Books\n",
      "7. Show Books\n",
      "8. Change Password\n",
      "9. Logout\n"
     ]
    },
    {
     "name": "stdin",
     "output_type": "stream",
     "text": [
      "Enter your choice:  1\n",
      "Enter book title:  maths\n",
      "Enter book author:  moiz\n",
      "Enter publication year:  1828\n",
      "Enter ISBN:  91010\n"
     ]
    },
    {
     "name": "stdout",
     "output_type": "stream",
     "text": [
      "Book 'maths' added successfully.\n",
      "\n",
      "Admin Menu:\n",
      "1. Add Book\n",
      "2. Issue Book\n",
      "3. Return Book\n",
      "4. Edit Book\n",
      "5. Delete Book\n",
      "6. Search Books\n",
      "7. Show Books\n",
      "8. Change Password\n",
      "9. Logout\n"
     ]
    },
    {
     "name": "stdin",
     "output_type": "stream",
     "text": [
      "Enter your choice:  2\n",
      "Enter student's name:  afza\n",
      "Enter the title of the book to issue:  maths\n"
     ]
    },
    {
     "name": "stdout",
     "output_type": "stream",
     "text": [
      "Book 'maths' issued to afza.\n",
      "\n",
      "Admin Menu:\n",
      "1. Add Book\n",
      "2. Issue Book\n",
      "3. Return Book\n",
      "4. Edit Book\n",
      "5. Delete Book\n",
      "6. Search Books\n",
      "7. Show Books\n",
      "8. Change Password\n",
      "9. Logout\n"
     ]
    },
    {
     "name": "stdin",
     "output_type": "stream",
     "text": [
      "Enter your choice:  7\n"
     ]
    },
    {
     "name": "stdout",
     "output_type": "stream",
     "text": [
      "Available books:\n",
      "- python by ashna (2901) - ISBN: 9292 - Available\n",
      "- maths by moiz (1828) - ISBN: 91010 - Issued\n",
      "\n",
      "Admin Menu:\n",
      "1. Add Book\n",
      "2. Issue Book\n",
      "3. Return Book\n",
      "4. Edit Book\n",
      "5. Delete Book\n",
      "6. Search Books\n",
      "7. Show Books\n",
      "8. Change Password\n",
      "9. Logout\n"
     ]
    },
    {
     "name": "stdin",
     "output_type": "stream",
     "text": [
      "Enter your choice:  4\n",
      "Enter the title of the book to edit:  python\n",
      "Enter new title (leave blank to keep 'python'):   \n",
      "Enter new author (leave blank to keep 'ashna'):  Ashna Shaikh\n",
      "Enter new publication year (leave blank to keep '2901'):   \n",
      "Enter new ISBN (leave blank to keep '9292'):   \n"
     ]
    },
    {
     "name": "stdout",
     "output_type": "stream",
     "text": [
      "Book details updated successfully.\n",
      "\n",
      "Admin Menu:\n",
      "1. Add Book\n",
      "2. Issue Book\n",
      "3. Return Book\n",
      "4. Edit Book\n",
      "5. Delete Book\n",
      "6. Search Books\n",
      "7. Show Books\n",
      "8. Change Password\n",
      "9. Logout\n"
     ]
    },
    {
     "name": "stdin",
     "output_type": "stream",
     "text": [
      "Enter your choice:  7\n"
     ]
    },
    {
     "name": "stdout",
     "output_type": "stream",
     "text": [
      "Available books:\n",
      "-   by Ashna Shaikh ( ) - ISBN:   - Available\n",
      "- maths by moiz (1828) - ISBN: 91010 - Issued\n",
      "\n",
      "Admin Menu:\n",
      "1. Add Book\n",
      "2. Issue Book\n",
      "3. Return Book\n",
      "4. Edit Book\n",
      "5. Delete Book\n",
      "6. Search Books\n",
      "7. Show Books\n",
      "8. Change Password\n",
      "9. Logout\n"
     ]
    },
    {
     "name": "stdin",
     "output_type": "stream",
     "text": [
      "Enter your choice:  7\n"
     ]
    },
    {
     "name": "stdout",
     "output_type": "stream",
     "text": [
      "Available books:\n",
      "-   by Ashna Shaikh ( ) - ISBN:   - Available\n",
      "- maths by moiz (1828) - ISBN: 91010 - Issued\n",
      "\n",
      "Admin Menu:\n",
      "1. Add Book\n",
      "2. Issue Book\n",
      "3. Return Book\n",
      "4. Edit Book\n",
      "5. Delete Book\n",
      "6. Search Books\n",
      "7. Show Books\n",
      "8. Change Password\n",
      "9. Logout\n"
     ]
    },
    {
     "name": "stdin",
     "output_type": "stream",
     "text": [
      "Enter your choice:  4\n",
      "Enter the title of the book to edit:  python\n"
     ]
    },
    {
     "name": "stdout",
     "output_type": "stream",
     "text": [
      "Book not found.\n",
      "\n",
      "Admin Menu:\n",
      "1. Add Book\n",
      "2. Issue Book\n",
      "3. Return Book\n",
      "4. Edit Book\n",
      "5. Delete Book\n",
      "6. Search Books\n",
      "7. Show Books\n",
      "8. Change Password\n",
      "9. Logout\n"
     ]
    },
    {
     "name": "stdin",
     "output_type": "stream",
     "text": [
      "Enter your choice:  4\n",
      "Enter the title of the book to edit:  Python\n"
     ]
    },
    {
     "name": "stdout",
     "output_type": "stream",
     "text": [
      "Book not found.\n",
      "\n",
      "Admin Menu:\n",
      "1. Add Book\n",
      "2. Issue Book\n",
      "3. Return Book\n",
      "4. Edit Book\n",
      "5. Delete Book\n",
      "6. Search Books\n",
      "7. Show Books\n",
      "8. Change Password\n",
      "9. Logout\n"
     ]
    },
    {
     "name": "stdin",
     "output_type": "stream",
     "text": [
      "Enter your choice:  1\n",
      "Enter book title:  python\n",
      "Enter book author:  ashna \n",
      "Enter publication year:  1000\n",
      "Enter ISBN:  1222\n"
     ]
    },
    {
     "name": "stdout",
     "output_type": "stream",
     "text": [
      "Book 'python' added successfully.\n",
      "\n",
      "Admin Menu:\n",
      "1. Add Book\n",
      "2. Issue Book\n",
      "3. Return Book\n",
      "4. Edit Book\n",
      "5. Delete Book\n",
      "6. Search Books\n",
      "7. Show Books\n",
      "8. Change Password\n",
      "9. Logout\n"
     ]
    },
    {
     "name": "stdin",
     "output_type": "stream",
     "text": [
      "Enter your choice:  4\n",
      "Enter the title of the book to edit:  python\n",
      "Enter new title (leave blank to keep 'python'):  python\n",
      "Enter new author (leave blank to keep 'ashna '):  Ashna shaikh\n",
      "Enter new publication year (leave blank to keep '1000'):   \n",
      "Enter new ISBN (leave blank to keep '1222'):   \n"
     ]
    },
    {
     "name": "stdout",
     "output_type": "stream",
     "text": [
      "Book details updated successfully.\n",
      "\n",
      "Admin Menu:\n",
      "1. Add Book\n",
      "2. Issue Book\n",
      "3. Return Book\n",
      "4. Edit Book\n",
      "5. Delete Book\n",
      "6. Search Books\n",
      "7. Show Books\n",
      "8. Change Password\n",
      "9. Logout\n"
     ]
    },
    {
     "name": "stdin",
     "output_type": "stream",
     "text": [
      "Enter your choice:  7\n"
     ]
    },
    {
     "name": "stdout",
     "output_type": "stream",
     "text": [
      "Available books:\n",
      "-   by Ashna Shaikh ( ) - ISBN:   - Available\n",
      "- maths by moiz (1828) - ISBN: 91010 - Issued\n",
      "- python by Ashna shaikh ( ) - ISBN:   - Available\n",
      "\n",
      "Admin Menu:\n",
      "1. Add Book\n",
      "2. Issue Book\n",
      "3. Return Book\n",
      "4. Edit Book\n",
      "5. Delete Book\n",
      "6. Search Books\n",
      "7. Show Books\n",
      "8. Change Password\n",
      "9. Logout\n"
     ]
    },
    {
     "name": "stdin",
     "output_type": "stream",
     "text": [
      "Enter your choice:  5\n",
      "Enter the title of the book to delete:   \n"
     ]
    },
    {
     "name": "stdout",
     "output_type": "stream",
     "text": [
      "Book ' ' deleted successfully.\n",
      "\n",
      "Admin Menu:\n",
      "1. Add Book\n",
      "2. Issue Book\n",
      "3. Return Book\n",
      "4. Edit Book\n",
      "5. Delete Book\n",
      "6. Search Books\n",
      "7. Show Books\n",
      "8. Change Password\n",
      "9. Logout\n"
     ]
    }
   ],
   "source": [
    "import getpass\n",
    "import time\n",
    "\n",
    "class LibrarySystem:\n",
    "    def __init__(self):\n",
    "        self.admin_credentials = {'admin': 'admin123'}\n",
    "        self.books = []\n",
    "        self.issued_books = []\n",
    "        self.current_admin = None\n",
    "\n",
    "    def login(self):\n",
    "        while True:\n",
    "            username = input(\"Enter admin username: \")\n",
    "            password = getpass.getpass(\"Enter admin password: \")\n",
    "            if self.admin_credentials.get(username) == password:\n",
    "                print(\"Login successful!\")\n",
    "                self.current_admin = username\n",
    "                return True\n",
    "            else:\n",
    "                print(\"Invalid credentials, please try again.\")\n",
    "\n",
    "    def change_admin_password(self):\n",
    "        if not self.current_admin:\n",
    "            print(\"You must be logged in to change password.\")\n",
    "            return\n",
    "        \n",
    "        current_password = getpass.getpass(\"Enter current password: \")\n",
    "        if self.admin_credentials[self.current_admin] != current_password:\n",
    "            print(\"Incorrect current password.\")\n",
    "            return\n",
    "        \n",
    "        new_password = getpass.getpass(\"Enter new password: \")\n",
    "        confirm_password = getpass.getpass(\"Confirm new password: \")\n",
    "        if new_password == confirm_password:\n",
    "            self.admin_credentials[self.current_admin] = new_password\n",
    "            print(\"Password changed successfully.\")\n",
    "        else:\n",
    "            print(\"Passwords do not match.\")\n",
    "\n",
    "    def add_book(self):\n",
    "        title = input(\"Enter book title: \")\n",
    "        author = input(\"Enter book author: \")\n",
    "        pub_year = input(\"Enter publication year: \")\n",
    "        isbn = input(\"Enter ISBN: \")\n",
    "        book = {\n",
    "            'title': title,\n",
    "            'author': author,\n",
    "            'year': pub_year,\n",
    "            'isbn': isbn,\n",
    "            'available': True\n",
    "        }\n",
    "        self.books.append(book)\n",
    "        print(f\"Book '{title}' added successfully.\")\n",
    "\n",
    "    def issue_book(self):\n",
    "        student = input(\"Enter student's name: \")\n",
    "        book_title = input(\"Enter the title of the book to issue: \")\n",
    "        available_books = [book for book in self.books if book['title'].lower() == book_title.lower() and book['available']]\n",
    "        if not available_books:\n",
    "            print(\"Book not available.\")\n",
    "            return\n",
    "\n",
    "        book_to_issue = available_books[0]\n",
    "        book_to_issue['available'] = False\n",
    "        self.issued_books.append({\n",
    "            'student': student,\n",
    "            'title': book_to_issue['title'],\n",
    "            'issue_date': time.strftime(\"%Y-%m-%d\"),\n",
    "            'return_date': None\n",
    "        })\n",
    "        print(f\"Book '{book_to_issue['title']}' issued to {student}.\")\n",
    "\n",
    "    def return_book(self):\n",
    "        student = input(\"Enter student's name: \")\n",
    "        book_title = input(\"Enter the title of the book to return: \")\n",
    "        issued_book = next((book for book in self.issued_books if book['title'].lower() == book_title.lower() and book['student'].lower() == student.lower()), None)\n",
    "        if not issued_book:\n",
    "            print(\"No matching issued book found.\")\n",
    "            return\n",
    "\n",
    "        self.issued_books.remove(issued_book)\n",
    "        book_in_inventory = next(book for book in self.books if book['title'].lower() == book_title.lower())\n",
    "        book_in_inventory['available'] = True\n",
    "        print(f\"Book '{book_in_inventory['title']}' returned by {student}.\")\n",
    "\n",
    "    def edit_book(self):\n",
    "        book_title = input(\"Enter the title of the book to edit: \")\n",
    "        book_to_edit = next((book for book in self.books if book['title'].lower() == book_title.lower()), None)\n",
    "        if not book_to_edit:\n",
    "            print(\"Book not found.\")\n",
    "            return\n",
    "\n",
    "        new_title = input(f\"Enter new title (leave blank to keep '{book_to_edit['title']}'): \")\n",
    "        new_author = input(f\"Enter new author (leave blank to keep '{book_to_edit['author']}'): \")\n",
    "        new_year = input(f\"Enter new publication year (leave blank to keep '{book_to_edit['year']}'): \")\n",
    "        new_isbn = input(f\"Enter new ISBN (leave blank to keep '{book_to_edit['isbn']}'): \")\n",
    "\n",
    "        if new_title:\n",
    "            book_to_edit['title'] = new_title\n",
    "        if new_author:\n",
    "            book_to_edit['author'] = new_author\n",
    "        if new_year:\n",
    "            book_to_edit['year'] = new_year\n",
    "        if new_isbn:\n",
    "            book_to_edit['isbn'] = new_isbn\n",
    "\n",
    "        print(\"Book details updated successfully.\")\n",
    "\n",
    "    def delete_book(self):\n",
    "        book_title = input(\"Enter the title of the book to delete: \")\n",
    "        book_to_delete = next((book for book in self.books if book['title'].lower() == book_title.lower()), None)\n",
    "        if not book_to_delete:\n",
    "            print(\"Book not found.\")\n",
    "            return\n",
    "\n",
    "        self.books.remove(book_to_delete)\n",
    "        print(f\"Book '{book_to_delete['title']}' deleted successfully.\")\n",
    "\n",
    "    def search_books(self):\n",
    "        search_term = input(\"Enter book title or author to search: \").lower()\n",
    "        search_results = [book for book in self.books if search_term in book['title'].lower() or search_term in book['author'].lower()]\n",
    "        if not search_results:\n",
    "            print(\"No matching books found.\")\n",
    "            return\n",
    "\n",
    "        print(\"Search results:\")\n",
    "        for book in search_results:\n",
    "            print(f\"- {book['title']} by {book['author']} ({book['year']}) - ISBN: {book['isbn']} - {'Available' if book['available'] else 'Issued'}\")\n",
    "\n",
    "    def show_books(self):\n",
    "        if not self.books:\n",
    "            print(\"No books available.\")\n",
    "            return\n",
    "\n",
    "        print(\"Available books:\")\n",
    "        for book in self.books:\n",
    "            print(f\"- {book['title']} by {book['author']} ({book['year']}) - ISBN: {book['isbn']} - {'Available' if book['available'] else 'Issued'}\")\n",
    "\n",
    "    def logout(self):\n",
    "        print(\"Logging out...\")\n",
    "        self.current_admin = None\n",
    "        time.sleep(1)\n",
    "        print(\"Logged out successfully.\")\n",
    "\n",
    "    def admin_menu(self):\n",
    "        while self.current_admin:\n",
    "            print(\"\\nAdmin Menu:\")\n",
    "            print(\"1. Add Book\")\n",
    "            print(\"2. Issue Book\")\n",
    "            print(\"3. Return Book\")\n",
    "            print(\"4. Edit Book\")\n",
    "            print(\"5. Delete Book\")\n",
    "            print(\"6. Search Books\")\n",
    "            print(\"7. Show Books\")\n",
    "            print(\"8. Change Password\")\n",
    "            print(\"9. Logout\")\n",
    "            option = input(\"Enter your choice: \")\n",
    "\n",
    "            if option == '1':\n",
    "                self.add_book()\n",
    "            elif option == '2':\n",
    "                self.issue_book()\n",
    "            elif option == '3':\n",
    "                self.return_book()\n",
    "            elif option == '4':\n",
    "                self.edit_book()\n",
    "            elif option == '5':\n",
    "                self.delete_book()\n",
    "            elif option == '6':\n",
    "                self.search_books()\n",
    "            elif option == '7':\n",
    "                self.show_books()\n",
    "            elif option == '8':\n",
    "                self.change_admin_password()\n",
    "            elif option == '9':\n",
    "                self.logout()\n",
    "            else:\n",
    "                print(\"Invalid option. Please try again.\")\n",
    "\n",
    "    def start(self):\n",
    "        if self.login():\n",
    "            self.admin_menu()\n",
    "\n",
    "\n",
    "if __name__ == \"__main__\":\n",
    "    system = LibrarySystem()\n",
    "    system.start()\n"
   ]
  },
  {
   "cell_type": "code",
   "execution_count": null,
   "id": "beeab294-25a3-41e1-ab62-9c2e31e26b11",
   "metadata": {},
   "outputs": [],
   "source": []
  }
 ],
 "metadata": {
  "kernelspec": {
   "display_name": "Python 3 (ipykernel)",
   "language": "python",
   "name": "python3"
  },
  "language_info": {
   "codemirror_mode": {
    "name": "ipython",
    "version": 3
   },
   "file_extension": ".py",
   "mimetype": "text/x-python",
   "name": "python",
   "nbconvert_exporter": "python",
   "pygments_lexer": "ipython3",
   "version": "3.12.2"
  }
 },
 "nbformat": 4,
 "nbformat_minor": 5
}
