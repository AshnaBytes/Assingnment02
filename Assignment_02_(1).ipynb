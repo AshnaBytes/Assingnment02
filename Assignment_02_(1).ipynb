{
  "nbformat": 4,
  "nbformat_minor": 0,
  "metadata": {
    "colab": {
      "provenance": [],
      "toc_visible": true
    },
    "kernelspec": {
      "name": "python3",
      "display_name": "Python 3"
    },
    "language_info": {
      "name": "python"
    }
  },
  "cells": [
    {
      "cell_type": "markdown",
      "source": [
        "## Task 01:\n",
        "\n",
        "Print Your Name with your Father name and Date of birth using suitable escape sequence charactor\n",
        "\n"
      ],
      "metadata": {
        "id": "bb0O0xtk1v9t"
      }
    },
    {
      "cell_type": "code",
      "source": [
        "# Write your code h\n",
        "print(\"My Name is 'Ashna Shaikh' \")\n",
        "print(\"My Father name is  Muhammad Iqbal' \")\n",
        "print(\"MY D-O-B is 11/feb/2004\")\n"
      ],
      "metadata": {
        "id": "U7LLGIkO2Ixa",
        "colab": {
          "base_uri": "https://localhost:8080/"
        },
        "outputId": "77f72660-ab9b-42da-ce21-cc3dd8521c76"
      },
      "execution_count": 2,
      "outputs": [
        {
          "output_type": "stream",
          "name": "stdout",
          "text": [
            "My Name is 'Ashna Shaikh' \n",
            "My Father name is  Muhammad Iqbal' \n",
            "MY D-O-B is 11/feb/2004\n"
          ]
        }
      ]
    },
    {
      "cell_type": "markdown",
      "source": [
        "# Task 02:\n",
        "\n",
        "Write your small bio using variables and print it using print function"
      ],
      "metadata": {
        "id": "TU-xwiLV2NgB"
      }
    },
    {
      "cell_type": "code",
      "source": [
        "# Write your code here\n",
        "myname = 'Ashna Shaikh'\n",
        "std = 'NED UNIVERSITY'\n",
        "print('My name is ' + myname + ' and I am student of '+ std)"
      ],
      "metadata": {
        "id": "Dw8w3rwl2wDB",
        "colab": {
          "base_uri": "https://localhost:8080/"
        },
        "outputId": "c3efe34f-e9e0-47cb-8770-faf290885ca3"
      },
      "execution_count": 6,
      "outputs": [
        {
          "output_type": "stream",
          "name": "stdout",
          "text": [
            "My name is Ashna Shaikh and I am student of NED UNIVERSITY\n"
          ]
        }
      ]
    },
    {
      "cell_type": "markdown",
      "source": [
        "# Task 03:\n",
        "\n",
        "Write a program in which use all the operators we can use in Python"
      ],
      "metadata": {
        "id": "F2lcZuDe2ztv"
      }
    },
    {
      "cell_type": "code",
      "source": [
        "# Write your code here\n",
        "a= 4\n",
        "b = 3\n",
        "print ('a + b = ' + str(a+b))\n",
        "print('a - b = '+ str(a-b))\n",
        "print ('a * b = ' + str(a*b))\n",
        "print ('a / b = ' + str(a/b))\n",
        "print ('a **(power) b = ' + str(a**b))\n",
        "print ('a < b = ' + str(a<b))\n",
        "print ('a > b = ' + str(a>b))\n",
        "print ('a == b = ' + str(a==b))\n",
        "print ('a != b = ' + str(a!=b))"
      ],
      "metadata": {
        "id": "lEJhzsXh3e7K",
        "colab": {
          "base_uri": "https://localhost:8080/"
        },
        "outputId": "b266c6c4-efe4-44f6-8b40-a7f9a30ba10e"
      },
      "execution_count": 22,
      "outputs": [
        {
          "output_type": "stream",
          "name": "stdout",
          "text": [
            "a + b = 7\n",
            "a - b = 1\n",
            "a * b = 12\n",
            "a / b = 1.3333333333333333\n",
            "a **(power) b = 64\n",
            "a < b = False\n",
            "a > b = True\n",
            "a == b = False\n",
            "a != b = True\n"
          ]
        }
      ]
    },
    {
      "cell_type": "markdown",
      "source": [
        "# Task 04:\n",
        "\n",
        "\n",
        "1. Mention Marks of English , Islamiat and Maths out of 100 in 3 different variables\n",
        "\n",
        "2. Mention Variable of Total Marks and assign 300 to it\n",
        "\n",
        "3. Calculate Percentage"
      ],
      "metadata": {
        "id": "i4N14TJU3l7n"
      }
    },
    {
      "cell_type": "code",
      "source": [
        "# Write your code here\n",
        "eng = 85\n",
        "isl = 97\n",
        "math= 80\n",
        "totalmarks = 300\n",
        "marks = (eng+isl+math) / totalmarks\n",
        "percentage = marks * 100\n",
        "print('percentage = '+ str(percentage))\n",
        "\n"
      ],
      "metadata": {
        "id": "nxojzvRg5PP4",
        "colab": {
          "base_uri": "https://localhost:8080/"
        },
        "outputId": "7a3f8df9-4d72-4526-ef24-d2b6bbeff2c3"
      },
      "execution_count": 13,
      "outputs": [
        {
          "output_type": "stream",
          "name": "stdout",
          "text": [
            "percentage = 87.33333333333333\n"
          ]
        }
      ]
    },
    {
      "cell_type": "code",
      "source": [],
      "metadata": {
        "id": "n729hVyCT-27"
      },
      "execution_count": null,
      "outputs": []
    }
  ]
}